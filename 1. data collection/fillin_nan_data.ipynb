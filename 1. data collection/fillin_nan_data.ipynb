{
 "cells": [
  {
   "cell_type": "code",
   "execution_count": 1,
   "metadata": {},
   "outputs": [],
   "source": [
    "import json\n",
    "f = open(\"./data/data/movie3.json\", \"r\")\n",
    "movie_data = json.load(f)\n",
    "f.close()"
   ]
  },
  {
   "cell_type": "markdown",
   "metadata": {},
   "source": [
    "# project_budget nan값 갯수 확인하기"
   ]
  },
  {
   "cell_type": "code",
   "execution_count": 36,
   "metadata": {},
   "outputs": [
    {
     "name": "stdout",
     "output_type": "stream",
     "text": [
      "872\n"
     ]
    }
   ],
   "source": [
    "not_korean_list =[]\n",
    "for i in range(932):\n",
    "    if not any(u\"한국\" in s for s in movie_data[i]['nation']):\n",
    "         not_korean_list.append(i)\n",
    "\n",
    "print len(not_korean_list) "
   ]
  },
  {
   "cell_type": "code",
   "execution_count": 38,
   "metadata": {},
   "outputs": [
    {
     "name": "stdout",
     "output_type": "stream",
     "text": [
      "622\n"
     ]
    }
   ],
   "source": [
    "count = 0\n",
    "for i in not_korean_list:\n",
    "    if movie_data[i]['project_budget'] != 'NA':\n",
    "\n",
    "        count +=1\n",
    "print count"
   ]
  },
  {
   "cell_type": "code",
   "execution_count": 39,
   "metadata": {
    "scrolled": true
   },
   "outputs": [
    {
     "name": "stdout",
     "output_type": "stream",
     "text": [
      "250\n"
     ]
    }
   ],
   "source": [
    "nan_budget_list = []\n",
    "for i in not_korean_list:\n",
    "    if movie_data[i]['project_budget'] == 'NA':\n",
    "        nan_budget_list.append(movie_data[i]['Mname'])\n",
    "        \n",
    "print len(nan_budget_list)"
   ]
  },
  {
   "cell_type": "markdown",
   "metadata": {},
   "source": [
    "# project_budget data 채우기"
   ]
  },
  {
   "cell_type": "code",
   "execution_count": 9,
   "metadata": {
    "collapsed": true
   },
   "outputs": [],
   "source": [
    "import pandas as pd\n",
    "kaggle_data = pd.read_csv('./data/movie_metadata.csv')"
   ]
  },
  {
   "cell_type": "code",
   "execution_count": 10,
   "metadata": {},
   "outputs": [
    {
     "data": {
      "text/html": [
       "<div>\n",
       "<table border=\"1\" class=\"dataframe\">\n",
       "  <thead>\n",
       "    <tr style=\"text-align: right;\">\n",
       "      <th></th>\n",
       "      <th>color</th>\n",
       "      <th>director_name</th>\n",
       "      <th>num_critic_for_reviews</th>\n",
       "      <th>duration</th>\n",
       "      <th>director_facebook_likes</th>\n",
       "      <th>actor_3_facebook_likes</th>\n",
       "      <th>actor_2_name</th>\n",
       "      <th>actor_1_facebook_likes</th>\n",
       "      <th>gross</th>\n",
       "      <th>genres</th>\n",
       "      <th>...</th>\n",
       "      <th>num_user_for_reviews</th>\n",
       "      <th>language</th>\n",
       "      <th>country</th>\n",
       "      <th>content_rating</th>\n",
       "      <th>budget</th>\n",
       "      <th>title_year</th>\n",
       "      <th>actor_2_facebook_likes</th>\n",
       "      <th>imdb_score</th>\n",
       "      <th>aspect_ratio</th>\n",
       "      <th>movie_facebook_likes</th>\n",
       "    </tr>\n",
       "  </thead>\n",
       "  <tbody>\n",
       "    <tr>\n",
       "      <th>5038</th>\n",
       "      <td>Color</td>\n",
       "      <td>Scott Smith</td>\n",
       "      <td>1.0</td>\n",
       "      <td>87.0</td>\n",
       "      <td>2.0</td>\n",
       "      <td>318.0</td>\n",
       "      <td>Daphne Zuniga</td>\n",
       "      <td>637.0</td>\n",
       "      <td>NaN</td>\n",
       "      <td>Comedy|Drama</td>\n",
       "      <td>...</td>\n",
       "      <td>6.0</td>\n",
       "      <td>English</td>\n",
       "      <td>Canada</td>\n",
       "      <td>NaN</td>\n",
       "      <td>NaN</td>\n",
       "      <td>2013.0</td>\n",
       "      <td>470.0</td>\n",
       "      <td>7.7</td>\n",
       "      <td>NaN</td>\n",
       "      <td>84</td>\n",
       "    </tr>\n",
       "    <tr>\n",
       "      <th>5039</th>\n",
       "      <td>Color</td>\n",
       "      <td>NaN</td>\n",
       "      <td>43.0</td>\n",
       "      <td>43.0</td>\n",
       "      <td>NaN</td>\n",
       "      <td>319.0</td>\n",
       "      <td>Valorie Curry</td>\n",
       "      <td>841.0</td>\n",
       "      <td>NaN</td>\n",
       "      <td>Crime|Drama|Mystery|Thriller</td>\n",
       "      <td>...</td>\n",
       "      <td>359.0</td>\n",
       "      <td>English</td>\n",
       "      <td>USA</td>\n",
       "      <td>TV-14</td>\n",
       "      <td>NaN</td>\n",
       "      <td>NaN</td>\n",
       "      <td>593.0</td>\n",
       "      <td>7.5</td>\n",
       "      <td>16.00</td>\n",
       "      <td>32000</td>\n",
       "    </tr>\n",
       "    <tr>\n",
       "      <th>5040</th>\n",
       "      <td>Color</td>\n",
       "      <td>Benjamin Roberds</td>\n",
       "      <td>13.0</td>\n",
       "      <td>76.0</td>\n",
       "      <td>0.0</td>\n",
       "      <td>0.0</td>\n",
       "      <td>Maxwell Moody</td>\n",
       "      <td>0.0</td>\n",
       "      <td>NaN</td>\n",
       "      <td>Drama|Horror|Thriller</td>\n",
       "      <td>...</td>\n",
       "      <td>3.0</td>\n",
       "      <td>English</td>\n",
       "      <td>USA</td>\n",
       "      <td>NaN</td>\n",
       "      <td>1400.0</td>\n",
       "      <td>2013.0</td>\n",
       "      <td>0.0</td>\n",
       "      <td>6.3</td>\n",
       "      <td>NaN</td>\n",
       "      <td>16</td>\n",
       "    </tr>\n",
       "    <tr>\n",
       "      <th>5041</th>\n",
       "      <td>Color</td>\n",
       "      <td>Daniel Hsia</td>\n",
       "      <td>14.0</td>\n",
       "      <td>100.0</td>\n",
       "      <td>0.0</td>\n",
       "      <td>489.0</td>\n",
       "      <td>Daniel Henney</td>\n",
       "      <td>946.0</td>\n",
       "      <td>10443.0</td>\n",
       "      <td>Comedy|Drama|Romance</td>\n",
       "      <td>...</td>\n",
       "      <td>9.0</td>\n",
       "      <td>English</td>\n",
       "      <td>USA</td>\n",
       "      <td>PG-13</td>\n",
       "      <td>NaN</td>\n",
       "      <td>2012.0</td>\n",
       "      <td>719.0</td>\n",
       "      <td>6.3</td>\n",
       "      <td>2.35</td>\n",
       "      <td>660</td>\n",
       "    </tr>\n",
       "    <tr>\n",
       "      <th>5042</th>\n",
       "      <td>Color</td>\n",
       "      <td>Jon Gunn</td>\n",
       "      <td>43.0</td>\n",
       "      <td>90.0</td>\n",
       "      <td>16.0</td>\n",
       "      <td>16.0</td>\n",
       "      <td>Brian Herzlinger</td>\n",
       "      <td>86.0</td>\n",
       "      <td>85222.0</td>\n",
       "      <td>Documentary</td>\n",
       "      <td>...</td>\n",
       "      <td>84.0</td>\n",
       "      <td>English</td>\n",
       "      <td>USA</td>\n",
       "      <td>PG</td>\n",
       "      <td>1100.0</td>\n",
       "      <td>2004.0</td>\n",
       "      <td>23.0</td>\n",
       "      <td>6.6</td>\n",
       "      <td>1.85</td>\n",
       "      <td>456</td>\n",
       "    </tr>\n",
       "  </tbody>\n",
       "</table>\n",
       "<p>5 rows × 28 columns</p>\n",
       "</div>"
      ],
      "text/plain": [
       "      color     director_name  num_critic_for_reviews  duration  \\\n",
       "5038  Color       Scott Smith                     1.0      87.0   \n",
       "5039  Color               NaN                    43.0      43.0   \n",
       "5040  Color  Benjamin Roberds                    13.0      76.0   \n",
       "5041  Color       Daniel Hsia                    14.0     100.0   \n",
       "5042  Color          Jon Gunn                    43.0      90.0   \n",
       "\n",
       "      director_facebook_likes  actor_3_facebook_likes      actor_2_name  \\\n",
       "5038                      2.0                   318.0     Daphne Zuniga   \n",
       "5039                      NaN                   319.0     Valorie Curry   \n",
       "5040                      0.0                     0.0     Maxwell Moody   \n",
       "5041                      0.0                   489.0     Daniel Henney   \n",
       "5042                     16.0                    16.0  Brian Herzlinger   \n",
       "\n",
       "      actor_1_facebook_likes    gross                        genres  \\\n",
       "5038                   637.0      NaN                  Comedy|Drama   \n",
       "5039                   841.0      NaN  Crime|Drama|Mystery|Thriller   \n",
       "5040                     0.0      NaN         Drama|Horror|Thriller   \n",
       "5041                   946.0  10443.0          Comedy|Drama|Romance   \n",
       "5042                    86.0  85222.0                   Documentary   \n",
       "\n",
       "             ...          num_user_for_reviews language  country  \\\n",
       "5038         ...                           6.0  English   Canada   \n",
       "5039         ...                         359.0  English      USA   \n",
       "5040         ...                           3.0  English      USA   \n",
       "5041         ...                           9.0  English      USA   \n",
       "5042         ...                          84.0  English      USA   \n",
       "\n",
       "      content_rating  budget  title_year actor_2_facebook_likes imdb_score  \\\n",
       "5038             NaN     NaN      2013.0                  470.0        7.7   \n",
       "5039           TV-14     NaN         NaN                  593.0        7.5   \n",
       "5040             NaN  1400.0      2013.0                    0.0        6.3   \n",
       "5041           PG-13     NaN      2012.0                  719.0        6.3   \n",
       "5042              PG  1100.0      2004.0                   23.0        6.6   \n",
       "\n",
       "      aspect_ratio movie_facebook_likes  \n",
       "5038           NaN                   84  \n",
       "5039         16.00                32000  \n",
       "5040           NaN                   16  \n",
       "5041          2.35                  660  \n",
       "5042          1.85                  456  \n",
       "\n",
       "[5 rows x 28 columns]"
      ]
     },
     "execution_count": 10,
     "metadata": {},
     "output_type": "execute_result"
    }
   ],
   "source": [
    "kaggle_data.tail()"
   ]
  },
  {
   "cell_type": "code",
   "execution_count": 11,
   "metadata": {},
   "outputs": [],
   "source": [
    "import re\n",
    "from collections import OrderedDict\n",
    "\n",
    "k_budget_dict = OrderedDict()\n",
    "for i in range(len(kaggle_data['budget'])):\n",
    "    movie_title = re.sub('\\xc2\\xa0','',kaggle_data['movie_title'][i])\n",
    "    k_budget_dict[movie_title] = kaggle_data['budget'][i]"
   ]
  },
  {
   "cell_type": "code",
   "execution_count": 13,
   "metadata": {
    "collapsed": true
   },
   "outputs": [],
   "source": [
    "m_name = k_budget_dict.keys()"
   ]
  },
  {
   "cell_type": "code",
   "execution_count": 30,
   "metadata": {},
   "outputs": [
    {
     "name": "stdout",
     "output_type": "stream",
     "text": [
      "116\n"
     ]
    }
   ],
   "source": [
    "count =0\n",
    "for i in range(len(nan_budget_list)):\n",
    "    if any(nan_budget_list[i].encode('utf-8') in s for s in m_name):\n",
    "        count +=1\n",
    "print count"
   ]
  },
  {
   "cell_type": "code",
   "execution_count": 44,
   "metadata": {
    "collapsed": true
   },
   "outputs": [],
   "source": [
    "import math"
   ]
  },
  {
   "cell_type": "code",
   "execution_count": null,
   "metadata": {
    "collapsed": true
   },
   "outputs": [],
   "source": [
    "count =0\n",
    "update_dict = {}\n",
    "for i in range(len(nan_budget_list)):\n",
    "    if any(nan_budget_list[i].encode('utf-8') in s for s in m_name):\n",
    "        try:\n",
    "            if not math.isnan(k_budget_dict[nan_budget_list[i]]):\n",
    "                update_dict[nan_budget_list[i]] = k_budget_dict[nan_budget_list[i]]\n",
    "                count +=1\n",
    "        except:\n",
    "            pass\n",
    "print count\n",
    "print update_dict"
   ]
  },
  {
   "cell_type": "markdown",
   "metadata": {},
   "source": [
    "# db에 update"
   ]
  },
  {
   "cell_type": "code",
   "execution_count": 17,
   "metadata": {},
   "outputs": [],
   "source": [
    "from pymongo import MongoClient"
   ]
  },
  {
   "cell_type": "code",
   "execution_count": 20,
   "metadata": {},
   "outputs": [],
   "source": [
    "mongo = MongoClient(mongo_server, 27017)"
   ]
  },
  {
   "cell_type": "code",
   "execution_count": 21,
   "metadata": {},
   "outputs": [],
   "source": [
    "movie = mongo.project.movie"
   ]
  },
  {
   "cell_type": "code",
   "execution_count": 52,
   "metadata": {},
   "outputs": [],
   "source": [
    "m_names = update_dict.keys()"
   ]
  },
  {
   "cell_type": "code",
   "execution_count": 59,
   "metadata": {
    "scrolled": true
   },
   "outputs": [
    {
     "name": "stdout",
     "output_type": "stream",
     "text": [
      "1\n"
     ]
    }
   ],
   "source": [
    "for i in range(len(update_dict)):\n",
    "    result = movie.update_one({'Mname': m_names[i]}, {'$set' :{'project_budget':update_dict[m_names[i]]}} )\n",
    "print result.modified_count"
   ]
  },
  {
   "cell_type": "markdown",
   "metadata": {},
   "source": [
    "# actor, director nan개수 확인하기"
   ]
  },
  {
   "cell_type": "code",
   "execution_count": null,
   "metadata": {
    "collapsed": true
   },
   "outputs": [],
   "source": [
    "for i in not_korean_list:\n",
    "    print movie_data[i]['Mname']\n",
    "    print movie_data[i]['actor']\n",
    "    print"
   ]
  },
  {
   "cell_type": "code",
   "execution_count": 442,
   "metadata": {},
   "outputs": [
    {
     "name": "stdout",
     "output_type": "stream",
     "text": [
      "164\n",
      "872\n",
      "164\n"
     ]
    }
   ],
   "source": [
    "count = 0\n",
    "nan_actor_list = []\n",
    "for i in not_korean_list:\n",
    "    try:\n",
    "        if movie_data[i]['actor']['People'] == u'/people/?ref=ft':\n",
    "            nan_actor_list.append(movie_data[i]['Mname'])\n",
    "            count += 1\n",
    "    except:\n",
    "        pass\n",
    "print count\n",
    "print len(not_korean_list)\n",
    "print len(nan_actor_list)"
   ]
  },
  {
   "cell_type": "code",
   "execution_count": null,
   "metadata": {
    "collapsed": true
   },
   "outputs": [],
   "source": [
    "for i in not_korean_list:\n",
    "    print movie_data[i]['Mname']\n",
    "    print movie_data[i]['director']\n",
    "    print"
   ]
  },
  {
   "cell_type": "code",
   "execution_count": 41,
   "metadata": {
    "scrolled": true
   },
   "outputs": [
    {
     "name": "stdout",
     "output_type": "stream",
     "text": [
      "189\n",
      "872\n",
      "189\n"
     ]
    }
   ],
   "source": [
    "count = 0\n",
    "nan_director_list = []\n",
    "for i in not_korean_list:\n",
    "    try:\n",
    "        if movie_data[i]['director']['People'] == u'/people/?ref=ft':\n",
    "            nan_director_list.append(movie_data[i]['Mname'])\n",
    "            count += 1\n",
    "    except:\n",
    "        pass\n",
    "print count\n",
    "print len(not_korean_list)\n",
    "print len(nan_director_list)"
   ]
  },
  {
   "cell_type": "markdown",
   "metadata": {},
   "source": [
    "# director nan값 채우기"
   ]
  },
  {
   "cell_type": "code",
   "execution_count": null,
   "metadata": {
    "collapsed": true
   },
   "outputs": [],
   "source": [
    "for i in not_korean_list:\n",
    "    print movie_data[i]['director']"
   ]
  },
  {
   "cell_type": "code",
   "execution_count": null,
   "metadata": {
    "collapsed": true
   },
   "outputs": [],
   "source": [
    "k_director_dict = {}\n",
    "for i in range(len(kaggle_data['director_name'])):\n",
    "    movie_title = re.sub('\\xc2\\xa0','',kaggle_data['movie_title'][i])\n",
    "    k_director_dict[movie_title] = kaggle_data['director_name'][i]\n",
    "print k_director_dict"
   ]
  },
  {
   "cell_type": "code",
   "execution_count": 466,
   "metadata": {
    "collapsed": true
   },
   "outputs": [],
   "source": [
    "m_name = k_director_dict.keys()"
   ]
  },
  {
   "cell_type": "code",
   "execution_count": 467,
   "metadata": {},
   "outputs": [
    {
     "name": "stdout",
     "output_type": "stream",
     "text": [
      "85\n",
      "85\n"
     ]
    }
   ],
   "source": [
    "count = 0\n",
    "update_dict = {}\n",
    "for i in range(len(nan_director_list)):\n",
    "    if any(nan_director_list[i].encode('utf-8') in s for s in m_name):\n",
    "        try:\n",
    "            k_director_dict[nan_director_list[i]]\n",
    "            #print nan_director_list[i], k_director_dict[nan_director_list[i]]\n",
    "            update_dict[nan_director_list[i]] = k_director_dict[nan_director_list[i]]\n",
    "            count += 1\n",
    "        except:\n",
    "            pass\n",
    "print count\n",
    "print len(update_dict)"
   ]
  },
  {
   "cell_type": "code",
   "execution_count": 468,
   "metadata": {},
   "outputs": [],
   "source": [
    "movie = mongo.project.movie"
   ]
  },
  {
   "cell_type": "code",
   "execution_count": 469,
   "metadata": {},
   "outputs": [],
   "source": [
    "m_names = update_dict.keys()"
   ]
  },
  {
   "cell_type": "code",
   "execution_count": 473,
   "metadata": {},
   "outputs": [
    {
     "name": "stdout",
     "output_type": "stream",
     "text": [
      "1\n"
     ]
    }
   ],
   "source": [
    "for i in range(len(update_dict)):\n",
    "    result = movie.update_one({'Mname': m_names[i]}, {'$set' :{'director':update_dict[m_names[i]]}} )\n",
    "print result.modified_count"
   ]
  },
  {
   "cell_type": "markdown",
   "metadata": {},
   "source": [
    "# director 제작영화 list 만들기"
   ]
  },
  {
   "cell_type": "code",
   "execution_count": 474,
   "metadata": {},
   "outputs": [],
   "source": [
    "directors = k_director_dict.values()"
   ]
  },
  {
   "cell_type": "code",
   "execution_count": 475,
   "metadata": {},
   "outputs": [],
   "source": [
    "d_names = update_dict.values()"
   ]
  },
  {
   "cell_type": "code",
   "execution_count": null,
   "metadata": {
    "collapsed": true
   },
   "outputs": [],
   "source": [
    "from collections import Counter\n",
    "directors_dict = Counter(directors)\n",
    "\n",
    "for d in d_names:\n",
    "    print d, directors_dict[d]\n"
   ]
  },
  {
   "cell_type": "code",
   "execution_count": 482,
   "metadata": {
    "collapsed": true
   },
   "outputs": [],
   "source": [
    "all_movie_name = k_director_dict.keys()"
   ]
  },
  {
   "cell_type": "code",
   "execution_count": 483,
   "metadata": {},
   "outputs": [],
   "source": [
    "director_movies_dict = {}\n",
    "for i in range(len(update_dict)):\n",
    "    movie_list = []\n",
    "    for j in range(len(k_director_dict)):\n",
    "        if update_dict[m_names[i]] == k_director_dict[all_movie_name[j]]:\n",
    "            movie_list.append(all_movie_name[j])\n",
    "    director_movies_dict[update_dict[m_names[i]]] = movie_list"
   ]
  },
  {
   "cell_type": "code",
   "execution_count": 485,
   "metadata": {},
   "outputs": [],
   "source": [
    "director = mongo.project.director"
   ]
  },
  {
   "cell_type": "code",
   "execution_count": null,
   "metadata": {
    "collapsed": true
   },
   "outputs": [],
   "source": [
    "for i in range(len(director_movies_dict)):\n",
    "    value_dict = {}\n",
    "    for j in range(len(director_movies_dict.values()[i])):\n",
    "        value_dict[director_movies_dict.values()[i][j]] = 'NA'\n",
    "\n",
    "    director.insert({'movie': value_dict, 'name': director_movies_dict.keys()[i]}, check_keys=False)"
   ]
  },
  {
   "cell_type": "markdown",
   "metadata": {},
   "source": [
    "# director 제작영화 매출액 구하기"
   ]
  },
  {
   "cell_type": "code",
   "execution_count": null,
   "metadata": {
    "collapsed": true
   },
   "outputs": [],
   "source": [
    "count = 0\n",
    "movie_gross_list = []\n",
    "\n",
    "for i in range(len(director_movies_dict)):\n",
    "    director_gross_dict = {}\n",
    "    for j in range(len(director_movies_dict.values()[i])):\n",
    "        for k in not_korean_list:\n",
    "            if director_movies_dict.values()[i][j] == movie_data[k]['Mname']:\n",
    "                #print movie_list[i], movie_data[j]['gross_kor']\n",
    "                \n",
    "                director_gross_dict[re.sub(r'\\.','',director_movies_dict.values()[i][j])] = movie_data[k]['gross_kor']\n",
    "                count+= 1\n",
    "    print director_movies_dict.keys()[i], director_gross_dict\n",
    "    movie_gross_list.append(director_gross_dict)\n",
    "\n",
    "print count\n",
    "print len(movie_gross_list)"
   ]
  },
  {
   "cell_type": "markdown",
   "metadata": {},
   "source": [
    "# db에 저장"
   ]
  },
  {
   "cell_type": "code",
   "execution_count": 488,
   "metadata": {},
   "outputs": [],
   "source": [
    "director = mongo.project.director"
   ]
  },
  {
   "cell_type": "code",
   "execution_count": 499,
   "metadata": {},
   "outputs": [],
   "source": [
    "for i in range(len(movie_gross_list)):\n",
    "    for j in range(len(movie_gross_list[i])):\n",
    "        gross_list = ['NA','NA','NA',movie_gross_list[i].values()[j]]\n",
    "        result = director.update_one({'name': director_movies_dict.keys()[i]}, {'$set': {'movie.{}'.format(movie_gross_list[i].keys()[j]): gross_list}})"
   ]
  },
  {
   "cell_type": "markdown",
   "metadata": {},
   "source": [
    "# actor nan값 채우기"
   ]
  },
  {
   "cell_type": "code",
   "execution_count": null,
   "metadata": {
    "collapsed": true
   },
   "outputs": [],
   "source": [
    "for i in not_korean_list:\n",
    "    print movie_data[i]['actor']"
   ]
  },
  {
   "cell_type": "code",
   "execution_count": null,
   "metadata": {
    "collapsed": true
   },
   "outputs": [],
   "source": [
    "k_actor_dict = {}\n",
    "for i in range(len(kaggle_data['actor_1_name'])):\n",
    "    actor_list = []\n",
    "    movie_title = re.sub('\\xc2\\xa0','',kaggle_data['movie_title'][i])\n",
    "    actor_list.append(kaggle_data['actor_1_name'][i])\n",
    "    actor_list.append(kaggle_data['actor_2_name'][i])\n",
    "    actor_list.append(kaggle_data['actor_3_name'][i])                 \n",
    "    k_actor_dict[movie_title] = actor_list\n",
    "print k_actor_dict"
   ]
  },
  {
   "cell_type": "code",
   "execution_count": 445,
   "metadata": {},
   "outputs": [
    {
     "name": "stdout",
     "output_type": "stream",
     "text": [
      "4917\n"
     ]
    }
   ],
   "source": [
    "print len(k_actor_dict)"
   ]
  },
  {
   "cell_type": "code",
   "execution_count": 447,
   "metadata": {},
   "outputs": [
    {
     "name": "stdout",
     "output_type": "stream",
     "text": [
      "37\n",
      "37\n"
     ]
    }
   ],
   "source": [
    "count = 0\n",
    "update_dict = {}\n",
    "for i in range(len(nan_actor_list)):\n",
    "    if any(nan_actor_list[i].encode('utf-8') in s for s in k_actor_dict.keys()):\n",
    "        try:\n",
    "            k_actor_dict[nan_actor_list[i]]\n",
    "            #print nan_actor_list[i], k_actor_dict[nan_actor_list[i]]\n",
    "            update_dict[nan_actor_list[i]] = k_actor_dict[nan_actor_list[i]]\n",
    "            count += 1\n",
    "        except:\n",
    "            pass\n",
    "print count\n",
    "print len(update_dict)"
   ]
  },
  {
   "cell_type": "code",
   "execution_count": 461,
   "metadata": {
    "scrolled": true
   },
   "outputs": [],
   "source": [
    "for i in range(len(update_dict)):\n",
    "    for j in range(3):\n",
    "        actor = re.sub('\\.','', update_dict.values()[i][j])\n",
    "        result = movie.update_one({'Mname': update_dict.keys()[i]}, {'$set' :{'actor.{}'.format(actor): 'NA'}}, upsert= True )\n",
    "    "
   ]
  },
  {
   "cell_type": "markdown",
   "metadata": {},
   "source": [
    "# actor 출연영화 list 만들기"
   ]
  },
  {
   "cell_type": "code",
   "execution_count": null,
   "metadata": {},
   "outputs": [],
   "source": [
    "update_dict.values()"
   ]
  },
  {
   "cell_type": "code",
   "execution_count": null,
   "metadata": {},
   "outputs": [],
   "source": [
    "actor_movies_dict = {}\n",
    "for i in range(len(update_dict)):\n",
    "    movie_list = []\n",
    "    for j in range(len(k_actor_dict)):\n",
    "        if update_dict[m_names[i]] == k_director_dict[all_movie_name[j]]:\n",
    "            movie_list.append(all_movie_name[j])\n",
    "    director_movies_dict[update_dict[m_names[i]]] = movie_list"
   ]
  }
 ],
 "metadata": {
  "kernelspec": {
   "display_name": "Python 2",
   "language": "python",
   "name": "python2"
  },
  "language_info": {
   "codemirror_mode": {
    "name": "ipython",
    "version": 2
   },
   "file_extension": ".py",
   "mimetype": "text/x-python",
   "name": "python",
   "nbconvert_exporter": "python",
   "pygments_lexer": "ipython2",
   "version": "2.7.13"
  }
 },
 "nbformat": 4,
 "nbformat_minor": 2
}
